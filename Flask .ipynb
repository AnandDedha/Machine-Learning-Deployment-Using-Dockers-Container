{
 "cells": [
  {
   "cell_type": "code",
   "execution_count": null,
   "metadata": {},
   "outputs": [
    {
     "name": "stderr",
     "output_type": "stream",
     "text": [
      " * Running on http://127.0.0.1:7000/ (Press CTRL+C to quit)\n",
      "127.0.0.1 - - [10/Jun/2018 19:03:47] \"GET / HTTP/1.1\" 405 -\n"
     ]
    }
   ],
   "source": [
    "\"\"\"\n",
    "Project: Flask Basic\n",
    "Author: Anand Kumar \n",
    "Created: Sunday June 10, 2018\n",
    "Info: Flask is micro service web-based framework which allows us to expose business logic and fucntions using API\n",
    "\"\"\"\n",
    "from flask import Flask, request\n",
    "\n",
    "app = Flask(__name__)\n",
    "\n",
    "#app name is  \"/\", it is customizable \n",
    "@app.route('/', methods = ['POST']) # 'get' method is supported by default by request\n",
    "\n",
    "def add():\n",
    "    \"\"\"\n",
    "    Scenario 1: Users need to pass the inputs via URL\n",
    "    #a=request.args.get(\"a\") \n",
    "    #b=request.args.get(\"b\") \n",
    "    \"\"\"\n",
    "    \"\"\" \n",
    "    Scenario 2: Values are pass by form\n",
    "    \"\"\"\n",
    "    a=request.form[\"a\"] \n",
    "    b=request.form[\"b\"] \n",
    "    return str(int(a) +int(b))\n",
    "\n",
    "#  Machine Learning Context \n",
    "#def predict(house_size, house_beds):\n",
    "#    prediction = ml_model.predict(house_size, house_beds)\n",
    "#    return prediction\n",
    "\n",
    "if __name__ == '__main__':\n",
    "    app.run(port= 7000)\n"
   ]
  },
  {
   "cell_type": "code",
   "execution_count": null,
   "metadata": {
    "collapsed": true
   },
   "outputs": [],
   "source": []
  }
 ],
 "metadata": {
  "kernelspec": {
   "display_name": "Python 3",
   "language": "python",
   "name": "python3"
  },
  "language_info": {
   "codemirror_mode": {
    "name": "ipython",
    "version": 3
   },
   "file_extension": ".py",
   "mimetype": "text/x-python",
   "name": "python",
   "nbconvert_exporter": "python",
   "pygments_lexer": "ipython3",
   "version": "3.6.2"
  }
 },
 "nbformat": 4,
 "nbformat_minor": 2
}
